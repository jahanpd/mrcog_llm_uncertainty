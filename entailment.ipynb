{
 "cells": [
  {
   "cell_type": "code",
   "execution_count": 33,
   "metadata": {},
   "outputs": [],
   "source": [
    "import pickle\n",
    "import numpy as np\n",
    "\n",
    "# get question to experiment with\n",
    "generations = pickle.load(open('./data/openai_temp=1.0_reasoning=False_generations.pkl', 'rb'))\n",
    "semsim = pickle.load(open('./data/openai_gpt_reas=False_temp=1.0_semantic_similarity.pkl', 'rb'))\n",
    "\n",
    "def is_n_clusters(d, n=4):\n",
    "    return len(np.unique(list(d.values()))) == n\n",
    "\n",
    "subset = [key for key, value in semsim.items() if is_n_clusters(value)]\n",
    "question = [qn for qn in generations if qn[\"id\"] == subset[-4]][0]\n",
    "entailments = semsim[subset[-4]]\n"
   ]
  },
  {
   "cell_type": "code",
   "execution_count": 34,
   "metadata": {},
   "outputs": [
    {
     "data": {
      "text/plain": [
       "'Significant pruritus in a 52-year-old smoker with red plaques and some warty lesions. What is the most appropriate management in this scenario?'"
      ]
     },
     "execution_count": 34,
     "metadata": {},
     "output_type": "execute_result"
    }
   ],
   "source": [
    "question[\"question\"]"
   ]
  },
  {
   "cell_type": "code",
   "execution_count": 35,
   "metadata": {},
   "outputs": [
    {
     "data": {
      "text/plain": [
       "['Perform a skin biopsy for diagnosis.',\n",
       " 'Perform a biopsy of the lesions.',\n",
       " 'Topical corticosteroids.',\n",
       " 'Topical corticosteroids and smoking cessation advice are appropriate management steps.',\n",
       " 'Perform a biopsy to determine the exact diagnosis.',\n",
       " 'Skin biopsy to confirm diagnosis; consider referral to a dermatologist.',\n",
       " 'Topical corticosteroids and vitamin D analogues.',\n",
       " 'Perform a biopsy to confirm diagnosis.',\n",
       " 'Consider topical treatment like 5-fluorouracil or imiquimod cream.',\n",
       " 'Biopsy the lesions for histopathological diagnosis.']"
      ]
     },
     "execution_count": 35,
     "metadata": {},
     "output_type": "execute_result"
    }
   ],
   "source": [
    "question[\"generated_answers\"]"
   ]
  },
  {
   "cell_type": "code",
   "execution_count": 41,
   "metadata": {},
   "outputs": [
    {
     "name": "stdout",
     "output_type": "stream",
     "text": [
      "straight up clusters=[Cluster(cluster=[AnswerIndex(index=0), AnswerIndex(index=1), AnswerIndex(index=4), AnswerIndex(index=5), AnswerIndex(index=7), AnswerIndex(index=9)]), Cluster(cluster=[AnswerIndex(index=2), AnswerIndex(index=3), AnswerIndex(index=6)]), Cluster(cluster=[AnswerIndex(index=8)])]\n"
     ]
    }
   ],
   "source": [
    "from entailment import get_oneshot_gpt_entailment\n",
    "\n",
    "entailments = get_oneshot_gpt_entailment(question[\"question\"], question[\"generated_answers\"])"
   ]
  },
  {
   "cell_type": "code",
   "execution_count": 47,
   "metadata": {},
   "outputs": [
    {
     "name": "stdout",
     "output_type": "stream",
     "text": [
      "0 Perform a skin biopsy for diagnosis. 0\n",
      "1 Perform a biopsy of the lesions. 0\n",
      "2 Topical corticosteroids. 1\n",
      "3 Topical corticosteroids and smoking cessation advice are appropriate management steps. 1\n",
      "4 Perform a biopsy to determine the exact diagnosis. 0\n",
      "5 Skin biopsy to confirm diagnosis; consider referral to a dermatologist. 0\n",
      "6 Topical corticosteroids and vitamin D analogues. 1\n",
      "7 Perform a biopsy to confirm diagnosis. 0\n",
      "8 Consider topical treatment like 5-fluorouracil or imiquimod cream. 2\n",
      "9 Biopsy the lesions for histopathological diagnosis. 0\n"
     ]
    }
   ],
   "source": [
    "# construct a graph based on the original entailment\n",
    "import networkx as nx\n",
    "G = nx.Graph()\n",
    "\n",
    "for idx, ans in enumerate(question[\"generated_answers\"]):\n",
    "    G.add_node(idx)\n",
    "\n",
    "for idx, ans in enumerate(question[\"generated_answers\"]):\n",
    "    group1 = entailments[idx]\n",
    "    print(idx, ans, group1)\n",
    "    for jdx, group2 in entailments.items():\n",
    "        if jdx != idx:\n",
    "            if group1 == group2:\n",
    "                G.add_edge(idx, jdx)"
   ]
  },
  {
   "cell_type": "code",
   "execution_count": 48,
   "metadata": {},
   "outputs": [
    {
     "data": {
      "image/png": "[encoded data removed]",
      "text/plain": [
       "<Figure size 640x480 with 1 Axes>"
      ]
     },
     "metadata": {},
     "output_type": "display_data"
    }
   ],
   "source": [
    "import matplotlib.pyplot as plt\n",
    "nx.draw(G, with_labels=True, font_weight='bold')"
   ]
  },
  {
   "cell_type": "code",
   "execution_count": 49,
   "metadata": {},
   "outputs": [
    {
     "name": "stdout",
     "output_type": "stream",
     "text": [
      "id  1796 gpt\n"
     ]
    }
   ],
   "source": [
    "from entailment import get_gpt_entailment\n",
    "def process_sequence(s):\n",
    "        print(\"id \", s['id'], \"gpt\")\n",
    "        question = s[\"question\"]\n",
    "        answers = s[\"generated_answers\"]\n",
    "        # base semantic set \n",
    "        semantic_set_ids = {}\n",
    "        for idx, answer in enumerate(answers):\n",
    "            # initialize with a bad answer\n",
    "            semantic_set_ids[idx] = -1\n",
    "\n",
    "        # Keep track of current id.\n",
    "        next_id = 0\n",
    "        for i, string1 in enumerate(answers):\n",
    "            # this inner loop compared each gen ans with other answers\n",
    "\n",
    "            # Check if string1 already has an id assigned.\n",
    "            if semantic_set_ids[i] == -1:\n",
    "                semantic_set_ids[i] = next_id\n",
    "                # If string1 has not been assigned an id, assign it next_id.\n",
    "                for j in range(i + 1, len(answers)):\n",
    "                    entailed = get_gpt_entailment(\n",
    "                            question,\n",
    "                            string1,\n",
    "                            answers[j],\n",
    "                            strict=True\n",
    "                            )\n",
    "                    if entailed:\n",
    "                        semantic_set_ids[j] = semantic_set_ids[i]\n",
    "                next_id += 1\n",
    "\n",
    "        return (s['id'], semantic_set_ids)\n",
    "\n",
    "_, entailments = process_sequence(question)"
   ]
  },
  {
   "cell_type": "code",
   "execution_count": 50,
   "metadata": {},
   "outputs": [
    {
     "name": "stdout",
     "output_type": "stream",
     "text": [
      "0 Perform a skin biopsy for diagnosis. 0\n",
      "1 Perform a biopsy of the lesions. 0\n",
      "2 Topical corticosteroids. 1\n",
      "3 Topical corticosteroids and smoking cessation advice are appropriate management steps. 2\n",
      "4 Perform a biopsy to determine the exact diagnosis. 0\n",
      "5 Skin biopsy to confirm diagnosis; consider referral to a dermatologist. 3\n",
      "6 Topical corticosteroids and vitamin D analogues. 4\n",
      "7 Perform a biopsy to confirm diagnosis. 3\n",
      "8 Consider topical treatment like 5-fluorouracil or imiquimod cream. 5\n",
      "9 Biopsy the lesions for histopathological diagnosis. 3\n"
     ]
    }
   ],
   "source": [
    "# construct a graph based on the original entailment\n",
    "import networkx as nx\n",
    "G = nx.Graph()\n",
    "\n",
    "for idx, ans in enumerate(question[\"generated_answers\"]):\n",
    "    G.add_node(idx)\n",
    "\n",
    "for idx, ans in enumerate(question[\"generated_answers\"]):\n",
    "    group1 = entailments[idx]\n",
    "    print(idx, ans, group1)\n",
    "    for jdx, group2 in entailments.items():\n",
    "        if jdx != idx:\n",
    "            if group1 == group2:\n",
    "                G.add_edge(idx, jdx)"
   ]
  },
  {
   "cell_type": "code",
   "execution_count": 51,
   "metadata": {},
   "outputs": [
    {
     "data": {
      "image/png": "[encoded data removed]",
      "text/plain": [
       "<Figure size 640x480 with 1 Axes>"
      ]
     },
     "metadata": {},
     "output_type": "display_data"
    }
   ],
   "source": [
    "nx.draw(G, with_labels=True, font_weight='bold')"
   ]
  }
 ],
 "metadata": {
  "kernelspec": {
   "display_name": "llm",
   "language": "python",
   "name": "python3"
  },
  "language_info": {
   "codemirror_mode": {
    "name": "ipython",
    "version": 3
   },
   "file_extension": ".py",
   "mimetype": "text/x-python",
   "name": "python",
   "nbconvert_exporter": "python",
   "pygments_lexer": "ipython3",
   "version": "3.10.12"
  }
 },
 "nbformat": 4,
 "nbformat_minor": 2
}
