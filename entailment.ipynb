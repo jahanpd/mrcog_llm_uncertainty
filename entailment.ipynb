{
 "cells": [
  {
   "cell_type": "code",
   "execution_count": 56,
   "metadata": {},
   "outputs": [],
   "source": [
    "import os\n",
    "env_vars = !cat /home/jahanpd/.keys\n",
    "for var in env_vars:\n",
    "    key, value = var.split('=')\n",
    "    os.environ[key] = value\n",
    "\n",
    "import pickle\n",
    "import numpy as np\n",
    "import random \n",
    "\n",
    "random.seed(42)\n",
    "# get question to experiment with\n",
    "generations = pickle.load(open('./data/openai_temp=1.0_reasoning=False_generations.pkl', 'rb'))\n",
    "semsim = pickle.load(open('./data/openai_gpt_oneshot=True_reas=False_temp=1.0_semantic_similarity.pkl', 'rb'))\n",
    "semsimOG = pickle.load(open('./data/openai_gpt_oneshot=False_reas=False_temp=1.0_semantic_similarity.pkl', 'rb'))\n",
    "confidence = pickle.load(open(\"./data/openai_gpt_oneshot=False_temp=0.2_reas=False_agg=original_confidence.pkl\", 'rb'))\n",
    "\n",
    "\n",
    "def count_clusters(d):\n",
    "    return len(np.unique(list(d.values())))\n",
    "\n",
    "def is_n_clusters(d, n=4):\n",
    "    return count_clusters(d) == n\n",
    "\n",
    "subset = [key for key, value in semsimOG.items() if is_n_clusters(value)]\n",
    "questions = [qn for qn in generations if qn[\"id\"] in subset]\n",
    "sample = random.sample(questions, 20)"
   ]
  },
  {
   "cell_type": "code",
   "execution_count": 58,
   "metadata": {},
   "outputs": [
    {
     "name": "stdout",
     "output_type": "stream",
     "text": [
      "2.7377245508982035 2.0\n",
      "2.1808383233532935 2.0\n"
     ]
    },
    {
     "data": {
      "text/plain": [
       "(array([736.,   0., 424.,   0.,   0., 239.,   0.,   0., 122.,   0.,   0.,\n",
       "         79.,   0.,  48.,   0.,   0.,  10.,   0.,   0.,   9.,   0.,   0.,\n",
       "          2.,   0.,   1.]),\n",
       " array([ 1.  ,  1.36,  1.72,  2.08,  2.44,  2.8 ,  3.16,  3.52,  3.88,\n",
       "         4.24,  4.6 ,  4.96,  5.32,  5.68,  6.04,  6.4 ,  6.76,  7.12,\n",
       "         7.48,  7.84,  8.2 ,  8.56,  8.92,  9.28,  9.64, 10.  ]),\n",
       " <BarContainer object of 25 artists>)"
      ]
     },
     "execution_count": 58,
     "metadata": {},
     "output_type": "execute_result"
    },
    {
     "data": {
      "image/png": "[encoded data removed]",
      "text/plain": [
       "<Figure size 640x480 with 1 Axes>"
      ]
     },
     "metadata": {},
     "output_type": "display_data"
    }
   ],
   "source": [
    "import matplotlib.pyplot as plt\n",
    "oneshot = [len(np.unique(list(d.values()))) for d in semsim.values()]\n",
    "og = [len(np.unique(list(d.values()))) for d in semsimOG.values()]\n",
    "print(np.mean(oneshot), np.median(oneshot))\n",
    "print(np.mean(og), np.median(og))\n",
    "plt.hist(oneshot, bins=25, edgecolor='black', alpha=0.5)\n",
    "plt.hist(og, bins=25, edgecolor='black', alpha=0.5)"
   ]
  },
  {
   "cell_type": "code",
   "execution_count": 61,
   "metadata": {},
   "outputs": [],
   "source": [
    "import networkx as nx\n",
    "import ipywidgets as widgets\n",
    "from IPython.display import display, HTML\n",
    "\n",
    "def display_answers(index):\n",
    "    group_colours = {\n",
    "        'group1': '#e6194B',  # Red\n",
    "        'group2': '#3cb44b',  # Green\n",
    "        'group3': '#ffe119',  # Yellow\n",
    "        'group4': '#4363d8',  # Blue\n",
    "        'group5': '#f58231',  # Orange\n",
    "        'group6': '#911eb4',  # Purple\n",
    "        'group7': '#46f0f0',  # Cyan\n",
    "        'group8': '#f032e6',  # Magenta\n",
    "        'group9': '#bcf60c',  # Lime\n",
    "        'group10': '#fabebe',  # Pink\n",
    "    }\n",
    "\n",
    "    def create_list_html(items, groups, sort=False):\n",
    "        ans_group = list(zip(items, groups))\n",
    "        if sort:\n",
    "            ans_group.sort(key=lambda x: x[1])\n",
    "        html = '<ul>'\n",
    "        for idx, (text, group) in enumerate(ans_group):\n",
    "            colour = group_colours.get(f\"group{group}\", '#000000')\n",
    "            html += f'<li style=\"color:{colour}\">{idx}. {text}</li>'\n",
    "        html += '</ul>'\n",
    "        return html\n",
    "\n",
    "    list_one = create_list_html(sample[index][\"generated_answers\"], semsim[sample[index][\"id\"]].values())\n",
    "    list_two = create_list_html(sample[index][\"generated_answers\"], semsimOG[sample[index][\"id\"]].values())\n",
    "\n",
    "    output = widgets.Output()\n",
    "    button = widgets.Button(description='Toggle Sort')\n",
    "\n",
    "    state = {\"sort\": False}\n",
    "    # Define the toggle function\n",
    "    def toggle_sort(b):\n",
    "        state[\"sort\"] = not state[\"sort\"]\n",
    "        output.clear_output()\n",
    "        with output:\n",
    "            list_one = create_list_html(sample[index][\"generated_answers\"], semsim[sample[index][\"id\"]].values(), state[\"sort\"])\n",
    "            list_two = create_list_html(sample[index][\"generated_answers\"], semsimOG[sample[index][\"id\"]].values(), state[\"sort\"])\n",
    "            display(button)\n",
    "            print(\"Oneshot\")\n",
    "            display(HTML(list_one))\n",
    "            print(\"Original\")\n",
    "            display(HTML(list_two))\n",
    "\n",
    "    button.on_click(toggle_sort)\n",
    "\n",
    "    with output:\n",
    "        list_one = create_list_html(sample[index][\"generated_answers\"], semsim[sample[index][\"id\"]].values(), state[\"sort\"])\n",
    "        list_two = create_list_html(sample[index][\"generated_answers\"], semsimOG[sample[index][\"id\"]].values(), state[\"sort\"])\n",
    "        display(button)\n",
    "        print(\"Oneshot\")\n",
    "        display(HTML(list_one))\n",
    "        print(\"Original\")\n",
    "        display(HTML(list_two))\n",
    "\n",
    "    display(output)"
   ]
  },
  {
   "cell_type": "code",
   "execution_count": 5,
   "metadata": {},
   "outputs": [
    {
     "data": {
      "application/vnd.jupyter.widget-view+json": {
       "model_id": "e4e117ec05b74679bb1a8f400b405138",
       "version_major": 2,
       "version_minor": 0
      },
      "text/plain": [
       "Output()"
      ]
     },
     "metadata": {},
     "output_type": "display_data"
    }
   ],
   "source": [
    "display_answers(0)"
   ]
  },
  {
   "cell_type": "code",
   "execution_count": 12,
   "metadata": {},
   "outputs": [
    {
     "data": {
      "application/vnd.jupyter.widget-view+json": {
       "model_id": "42ef5284063b447ba42d6b9f8b4b1ce8",
       "version_major": 2,
       "version_minor": 0
      },
      "text/plain": [
       "Output()"
      ]
     },
     "metadata": {},
     "output_type": "display_data"
    }
   ],
   "source": [
    "display_answers(2)"
   ]
  },
  {
   "cell_type": "code",
   "execution_count": 7,
   "metadata": {},
   "outputs": [
    {
     "data": {
      "application/vnd.jupyter.widget-view+json": {
       "model_id": "627b4f3a2fa5478ca0c64bacbfe1667e",
       "version_major": 2,
       "version_minor": 0
      },
      "text/plain": [
       "Output()"
      ]
     },
     "metadata": {},
     "output_type": "display_data"
    }
   ],
   "source": [
    "display_answers(2)"
   ]
  },
  {
   "cell_type": "code",
   "execution_count": 8,
   "metadata": {},
   "outputs": [
    {
     "data": {
      "application/vnd.jupyter.widget-view+json": {
       "model_id": "9f26b3dd025b4e7bb835cfccb15dc555",
       "version_major": 2,
       "version_minor": 0
      },
      "text/plain": [
       "Output()"
      ]
     },
     "metadata": {},
     "output_type": "display_data"
    }
   ],
   "source": [
    "display_answers(3)\n",
    "\n"
   ]
  },
  {
   "cell_type": "code",
   "execution_count": 59,
   "metadata": {},
   "outputs": [
    {
     "data": {
      "application/vnd.jupyter.widget-view+json": {
       "model_id": "25c2d72803704bd6b93e059c9da3382d",
       "version_major": 2,
       "version_minor": 0
      },
      "text/plain": [
       "Output()"
      ]
     },
     "metadata": {},
     "output_type": "display_data"
    }
   ],
   "source": [
    "display_answers(4)"
   ]
  },
  {
   "cell_type": "code",
   "execution_count": 10,
   "metadata": {},
   "outputs": [
    {
     "data": {
      "application/vnd.jupyter.widget-view+json": {
       "model_id": "9c2ac049a4654f03b4a1dc5cd291b9c3",
       "version_major": 2,
       "version_minor": 0
      },
      "text/plain": [
       "Output()"
      ]
     },
     "metadata": {},
     "output_type": "display_data"
    }
   ],
   "source": [
    "display_answers(5)"
   ]
  },
  {
   "cell_type": "code",
   "execution_count": 11,
   "metadata": {},
   "outputs": [
    {
     "data": {
      "application/vnd.jupyter.widget-view+json": {
       "model_id": "ff641b8150f844fd9858e42c3671615e",
       "version_major": 2,
       "version_minor": 0
      },
      "text/plain": [
       "Output()"
      ]
     },
     "metadata": {},
     "output_type": "display_data"
    }
   ],
   "source": [
    "display_answers(6)"
   ]
  },
  {
   "cell_type": "code",
   "execution_count": 24,
   "metadata": {},
   "outputs": [],
   "source": [
    "import networkx as nx\n",
    "from entailment import get_oneshot_gpt_entailment\n",
    "from entailment import get_gpt_entailment\n",
    "\n",
    "def process_sequence(s):\n",
    "        print(\"id \", s['id'], \"gpt\")\n",
    "        question = s[\"question\"]\n",
    "        answers = s[\"generated_answers\"]\n",
    "        answers_idx = list(range(len(answers)))\n",
    "        random.shuffle(answers_idx)\n",
    "        print(answers_idx)\n",
    "        # base semantic set \n",
    "        semantic_set_ids = {}\n",
    "        for idx, answer in enumerate(answers):\n",
    "            # initialize with a bad answer\n",
    "            semantic_set_ids[idx] = -1\n",
    "\n",
    "        # Keep track of current id.\n",
    "        next_id = 0\n",
    "        for i, idx in enumerate(answers_idx):\n",
    "            # this inner loop compared each gen ans with other answers\n",
    "\n",
    "            # Check if string1 already has an id assigned.\n",
    "            if semantic_set_ids[i] == -1:\n",
    "                semantic_set_ids[i] = next_id\n",
    "                # If string1 has not been assigned an id, assign it next_id.\n",
    "                for j in range(i + 1, len(answers)):\n",
    "                    entailed = get_gpt_entailment(\n",
    "                            question,\n",
    "                            answers[idx],\n",
    "                            answers[answers_idx[j]],\n",
    "                            strict=True\n",
    "                            )\n",
    "                    if entailed:\n",
    "                        semantic_set_ids[j] = semantic_set_ids[i]\n",
    "                next_id += 1\n",
    "\n",
    "        return (s['id'], semantic_set_ids)"
   ]
  },
  {
   "cell_type": "code",
   "execution_count": 25,
   "metadata": {},
   "outputs": [
    {
     "name": "stdout",
     "output_type": "stream",
     "text": [
      "id  967 gpt\n",
      "[5, 7, 4, 9, 8, 2, 6, 3, 0, 1]\n"
     ]
    },
    {
     "name": "stdout",
     "output_type": "stream",
     "text": [
      "id  967 gpt\n",
      "[0, 3, 9, 6, 8, 2, 1, 5, 7, 4]\n",
      "(967, {0: 0, 1: 1, 2: 1, 3: 2, 4: 0, 5: 3, 6: 2, 7: 3, 8: 3, 9: 1})\n",
      "(967, {0: 0, 1: 0, 2: 1, 3: 1, 4: 2, 5: 0, 6: 3, 7: 2, 8: 3, 9: 3})\n"
     ]
    }
   ],
   "source": [
    "sequence1 = process_sequence(sample[-2])\n",
    "sequence2 = process_sequence(sample[-2])\n",
    "print(sequence1)\n",
    "print(sequence2)"
   ]
  },
  {
   "cell_type": "code",
   "execution_count": 26,
   "metadata": {},
   "outputs": [
    {
     "name": "stdout",
     "output_type": "stream",
     "text": [
      "dict_values([0, 1, 1, 2, 0, 3, 2, 3, 3, 1])\n",
      "dict_values([0, 0, 1, 1, 2, 0, 3, 2, 3, 3])\n"
     ]
    }
   ],
   "source": [
    "print(sequence1[1].values())\n",
    "print(sequence2[1].values())"
   ]
  },
  {
   "cell_type": "code",
   "execution_count": 52,
   "metadata": {},
   "outputs": [
    {
     "name": "stdout",
     "output_type": "stream",
     "text": [
      "{0: {1: 1, 2: 4, 3: 10}, 1: {0: 1, 2: 5, 3: 11}, 2: {0: 4, 1: 5, 3: 6}, 3: {0: 10, 1: 11, 2: 6}}\n",
      "11\n",
      "{1, 4, 5, 6, 10, 11}\n",
      "[3, 1, 0, 2]\n"
     ]
    }
   ],
   "source": [
    "answers = [\"a dog\", \"a canine\", \"a cat\", \"a bird\"]\n",
    "embeddings = [0, -1, 4, 10]\n",
    "\n",
    "distances = {}\n",
    "max_distance = 0\n",
    "for i in range(len(answers)):\n",
    "    compare = {}\n",
    "    for j in range(len(answers)):\n",
    "        if i != j:\n",
    "            distance = abs(embeddings[i] - embeddings[j])\n",
    "            compare[j] = distance\n",
    "            if distance >= max_distance:\n",
    "                max_distance = distance\n",
    "    distances[i] = compare\n",
    "\n",
    "print(distances)\n",
    "print(max_distance)\n",
    "print(set(sum([list(d.values()) for d in distances.values()], [])))\n",
    "\n",
    "# compare the strings furthest from all others in embedding space\n",
    "order = []\n",
    "for key, value in distances.items():\n",
    "    order.append((key, sum(value.values())))\n",
    "\n",
    "order.sort(key=lambda x: -x[1])\n",
    "print([x[0] for x in order])"
   ]
  },
  {
   "cell_type": "code",
   "execution_count": 39,
   "metadata": {},
   "outputs": [
    {
     "data": {
      "image/png": "[encoded data removed]",
      "text/plain": [
       "<Figure size 640x480 with 1 Axes>"
      ]
     },
     "metadata": {},
     "output_type": "display_data"
    }
   ],
   "source": [
    "import matplotlib.pyplot as plt\n",
    "from netgraph import Graph\n",
    "\n",
    "G = nx.Graph()\n",
    "G.add_nodes_from([0,1,2,3])\n",
    "for i in range(4):\n",
    "    for j in range(4):\n",
    "        if i != j:\n",
    "            G.add_edge(i, j, length=distances[i][j])\n",
    "pos = nx.spring_layout(G, weight='length')\n",
    "nx.draw(G, pos)\n",
    "nx.draw_networkx_edge_labels(G, pos)\n",
    "plt.show()"
   ]
  }
 ],
 "metadata": {
  "kernelspec": {
   "display_name": "llm",
   "language": "python",
   "name": "python3"
  },
  "language_info": {
   "codemirror_mode": {
    "name": "ipython",
    "version": 3
   },
   "file_extension": ".py",
   "mimetype": "text/x-python",
   "name": "python",
   "nbconvert_exporter": "python",
   "pygments_lexer": "ipython3",
   "version": "3.12.3"
  }
 },
 "nbformat": 4,
 "nbformat_minor": 2
}
